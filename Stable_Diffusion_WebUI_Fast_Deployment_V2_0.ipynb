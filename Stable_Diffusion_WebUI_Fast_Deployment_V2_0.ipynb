{
  "cells": [
    {
      "cell_type": "markdown",
      "metadata": {
        "id": "view-in-github",
        "colab_type": "text"
      },
      "source": [
        "<a href=\"https://colab.research.google.com/github/showtimeon0524/ZoRrO/blob/master/Stable_Diffusion_WebUI_Fast_Deployment_V2_0.ipynb\" target=\"_parent\"><img src=\"https://colab.research.google.com/assets/colab-badge.svg\" alt=\"Open In Colab\"/></a>"
      ]
    },
    {
      "cell_type": "markdown",
      "source": [
        "# Stable Diffusion Web-UI Colab Quick Deployment V2.0\n",
        "\n",
        "# AI 作图一键部署\n",
        "\n",
        "---\n",
        "## 感谢大佬的开源！\n",
        "\n",
        "> 原完整项目：https://github.com/wibus-wee/stable_diffusion_chilloutmix_ipynb\n",
        ">\n",
        "> 个人在此基础上做了精简与重启改良 @[Lightship](https://space.bilibili.com/440840365)\n",
        ">\n",
        ">\n",
        "> 祝大家玩的开心！\n",
        "\n",
        "---\n",
        "## 运行方法：\n",
        "\n",
        "> 首次使用配置环境并启动：\n",
        "> 1. 如果不使用 Google Drive，请跳过0块，直接运行1、2、3、4块\n",
        "> 2. 如果使用 Google Drive，请全部运行0、1、2、3、4块，Checkpoint 与 Lora 的配置方法相同。\n",
        "\n",
        "> 再次使用（指关闭colab后重新连接容器实例）：\n",
        "> 1. 如果部署时使用过 Google Drive，那么直接运行0、1、4块，启动时间短很多。\n",
        "> 2. 如果没有使用过 Google Drive，请按首次使用进行环境配置。\n",
        "---"
      ],
      "metadata": {
        "id": "mhPub8WYGAEH"
      }
    },
    {
      "cell_type": "markdown",
      "source": [
        "## 0.装载 Google Drive\n",
        "运行并授权后，会将 Stable Diffusion 部署于 Google Drive 中\n",
        "> 这样做的好处是：\n",
        "> 1. 下次使用可以无需重新安装依赖和模型，直接运行0、1、4块即可。\n",
        "> 2. 如果web界面卡图导致这次的图没出来，除了恢复种子重新尝试之外，也可以在 drive 中查看生成的图（路径：'drive/MyDrive/stable-diffusion-webui/log/images'，或者直接进drive看最近操作文件）。\n",
        "\n",
        "> 这样的缺点是：\n",
        "> 1. drive中的免费额度只有15G，如果空间不够将跑不起来，因此这种方式限制了模型的大小和数量。如果发现有报错，就去看看自己的drive，该清理的删一删，记得清空回收站，然后把第一块的模型注释掉一部分，重新从头跑一次。"
      ],
      "metadata": {
        "id": "N2Xm7fw9gAv2"
      }
    },
    {
      "cell_type": "code",
      "source": [
        "from google.colab import drive\n",
        "drive.mount('/content/drive')\n",
        "useDrive = True\n",
        "%store useDrive"
      ],
      "metadata": {
        "id": "6_AXxl3Eo0g3"
      },
      "execution_count": null,
      "outputs": []
    },
    {
      "cell_type": "markdown",
      "metadata": {
        "id": "K_pkU4Z-6gAb"
      },
      "source": [
        "## 1.配置Checkpoint（可自定义） + 检查GPU"
      ]
    },
    {
      "cell_type": "code",
      "execution_count": null,
      "metadata": {
        "id": "DzsHgGIm6gAc"
      },
      "outputs": [],
      "source": [
        "# 列在downloadLink中的Checkpoint会自动下载（更改配置后需要运行第二块），可以自由增减，并在部署完成后，于WebUI中选择其中一个\n",
        "CheckpointLink = {\n",
        "    'chilloutmix.safetensors': 'https://huggingface.co/swl-models/chilloutmix/resolve/main/Chilloutmix-ema-fp32.safetensors',\n",
        "    # 'sunshinemix.safetensors': 'https://civitai.com/api/download/models/11752',\n",
        "    # 'grapefruitHentaiModel.safetensors': 'https://civitai.com/api/download/models/16619',\n",
        "    # 'meinaMix.safetensors': 'https://civitai.com/api/download/models/13434',\n",
        "}\n",
        "\n",
        "%store CheckpointLink\n",
        "\n",
        "# 检查GPU\n",
        "import os, subprocess\n",
        "paperspace_m4000 = False\n",
        "try:\n",
        "    subprocess.run(['nvidia-smi', '--query-gpu=name', '--format=csv,noheader'], stdout=subprocess.PIPE)\n",
        "    gpuinfo = subprocess.run(['nvidia-smi', '--query-gpu=name', '--format=csv,noheader'], stdout=subprocess.PIPE).stdout.decode('utf-8')\n",
        "    if 'M4000' in gpuinfo:\n",
        "        print(\"WARNING: 你正在使用的是 Quadro M4000 GPU，它将无法使用 xformers。\")\n",
        "        paperspace_m4000 = True\n",
        "    else:\n",
        "        print(\"当前使用：\"+gpuinfo.strip())\n",
        "        print(\"你正在使用的是合适的 GPU。\")\n",
        "except:\n",
        "    print(\"似乎没有 GPU 可用。请检查你的运行时类型。\")\n",
        "    exit()\n",
        "\n",
        "rootDir = '/tmp' if paperspace_m4000 else '/content'\n",
        "\n",
        "useDrive = False\n",
        "%store -r useDrive\n",
        "if useDrive:\n",
        "  rootDir = rootDir+'/drive/MyDrive'\n",
        "  print('你正在使用drive，请确保空间足够！')\n",
        "\n",
        "%store rootDir\n",
        "%store paperspace_m4000 "
      ]
    },
    {
      "cell_type": "markdown",
      "metadata": {
        "id": "EAUqpJbMpXRR"
      },
      "source": [
        "## 2.安装依赖与模型"
      ]
    },
    {
      "cell_type": "code",
      "execution_count": null,
      "metadata": {
        "id": "SaAJk33ppFw1"
      },
      "outputs": [],
      "source": [
        "%store -r paperspace_m4000 \n",
        "%store -r rootDir \n",
        "%store -r CheckpointLink\n",
        "\n",
        "import os, subprocess\n",
        "from glob import glob\n",
        "from pathlib import Path\n",
        "import sys\n",
        "\n",
        "!apt-get -y install -qq aria2\n",
        "ariaInstalled = False\n",
        "\n",
        "try:\n",
        "    subprocess.run(['aria2c', '--version'], stdout=subprocess.PIPE)\n",
        "    ariaInstalled = True\n",
        "except:\n",
        "    pass\n",
        "\n",
        "%store ariaInstalled\n",
        "\n",
        "if paperspace_m4000:\n",
        "  # Uninstall PyTorch and some other libraries so the WebUI can install the versions it needs\n",
        "  !pip uninstall -y torch torchvision torchaudio protobuf\n",
        "  !pip install protobuf\n",
        "  !pip install torch torchvision torchaudio --extra-index-url https://download.pytorch.org/whl/cu113\n",
        "else:\n",
        "  !pip install -q https://github.com/camenduru/stable-diffusion-webui-colab/releases/download/0.0.16/xformers-0.0.16+814314d.d20230118-cp38-cp38-linux_x86_64.whl\n",
        "  !pip install -q --pre triton\n",
        "  \n",
        "\n",
        "!git clone -b v2.0 https://github.com/camenduru/stable-diffusion-webui {rootDir}/stable-diffusion-webui\n",
        "!wget https://raw.githubusercontent.com/camenduru/stable-diffusion-webui-scripts/main/run_n_times.py -O {rootDir}/stable-diffusion-webui/scripts/run_n_times.py\n",
        "!git clone https://github.com/deforum-art/deforum-for-automatic1111-webui {rootDir}/stable-diffusion-webui/extensions/deforum-for-automatic1111-webui\n",
        "!git clone https://github.com/AlUlkesh/stable-diffusion-webui-images-browser {rootDir}/stable-diffusion-webui/extensions/stable-diffusion-webui-images-browser\n",
        "!git clone https://github.com/camenduru/stable-diffusion-webui-huggingface {rootDir}/stable-diffusion-webui/extensions/stable-diffusion-webui-huggingface\n",
        "!git clone -b v2.0 https://github.com/camenduru/sd-civitai-browser {rootDir}/stable-diffusion-webui/extensions/sd-civitai-browser\n",
        "!git clone https://github.com/kohya-ss/sd-webui-additional-networks {rootDir}/stable-diffusion-webui/extensions/sd-webui-additional-networks\n",
        "\n",
        "if paperspace_m4000:\n",
        "  %cd /stable-diffusion-webui\n",
        "else:\n",
        "  %cd {rootDir}/stable-diffusion-webui\n",
        "  \n",
        "for checkpointName in CheckpointLink:\n",
        "  if ariaInstalled:\n",
        "      !aria2c --console-log-level=error -c -x 16 -s 16 -k 1M {CheckpointLink[checkpointName]} -d {rootDir}/stable-diffusion-webui/models/Stable-diffusion -o {checkpointName}\n",
        "  else:\n",
        "      !wget -c {CheckpointLink[checkpointName]} -P {rootDir}/stable-diffusion-webui/models/Stable-diffusion -O {rootDir}/stable-diffusion-webui/models/Stable-diffusion/{checkpointName}\n",
        "\n"
      ]
    },
    {
      "cell_type": "markdown",
      "source": [
        "## 3.导入Lora模型（可自定义）"
      ],
      "metadata": {
        "id": "Ig4Y5kXxZ2yz"
      }
    },
    {
      "cell_type": "code",
      "source": [
        "%store -r rootDir\n",
        "%store -r ariaInstalled\n",
        "%store -r paperspace_m4000\n",
        "import os\n",
        "# launch运行前不会生成Lora目录，提前创建即可\n",
        "!mkdir {rootDir}/stable-diffusion-webui/models/Lora\n",
        "\n",
        "# 对于找到的Lora模型，将其名字与下载连接放入如下字典即可\n",
        "# 这个名称就是出图使用<lora:文件名:权重>载入的文件名\n",
        "LoraLink = {\n",
        "    'koreanDollLikeness_v15': 'https://huggingface.co/Anon1216/kdllora-v1.5/resolve/main/koreanDollLikeness_v15.safetensors',\n",
        "    'japaneseDollLikeness_v10': 'https://huggingface.co/AmornthepKladmee/japaneseDollLikeness_v10/resolve/main/japaneseDollLikeness_v10.safetensors',\n",
        "    'chilloutmixss_xss10': 'https://civitai.com/api/download/models/12876',\n",
        "    'aronaBlueArchive': 'https://civitai.com/api/download/models/9409',\n",
        "}\n",
        "\n",
        "if paperspace_m4000:\n",
        "  %cd /stable-diffusion-webui\n",
        "else:\n",
        "  %cd {rootDir}/stable-diffusion-webui\n",
        "  \n",
        "\n",
        "for loraName in LoraLink:\n",
        "  path = rootDir+'/stable-diffusion-webui/models/Lora/'+loraName+'.safetensors'\n",
        "  if os.path.exists(path):\n",
        "    print('已经导入Lora：'+loraName)\n",
        "    continue\n",
        "  if ariaInstalled:\n",
        "      !aria2c --console-log-level=error -c -x 16 -s 16 -k 1M {LoraLink[loraName]} -d {rootDir}/stable-diffusion-webui/models/Lora -o {loraName}.safetensors\n",
        "  else:\n",
        "      !wget -c {LoraLink[loraName]} -P {rootDir}/stable-diffusion-webui/models/Lora -O {rootDir}/stable-diffusion-webui/models/Lora/{loraName}.safetensors\n",
        "  print(\"成功导入Lora：\"+loraName)\n",
        "\n",
        "print('当前可使用的Lora名称：')\n",
        "for loraName in LoraLink:\n",
        "  print(loraName)\n"
      ],
      "metadata": {
        "id": "Km097fqBZ9mm"
      },
      "execution_count": null,
      "outputs": []
    },
    {
      "cell_type": "markdown",
      "metadata": {
        "id": "SEQh1nJopSDr"
      },
      "source": [
        "## 4.启动"
      ]
    },
    {
      "cell_type": "code",
      "execution_count": null,
      "metadata": {
        "id": "UilfY37zpOoK"
      },
      "outputs": [],
      "source": [
        "#@title\n",
        "%store -r paperspace_m4000 \n",
        "%store -r rootDir \n",
        "\n",
        "%cd {rootDir}/stable-diffusion-webui\n",
        "!sed -i -e '''/prepare_environment()/a\\    os.system\\(f\\\"\"\"sed -i -e ''\\\"s/self.logvar\\\\[t\\\\]/self.logvar\\\\[t.item()\\\\]/g\\\"'' {rootDir}/stable-diffusion-webui/repositories/stable-diffusion-stability-ai/ldm/models/diffusion/ddpm.py\"\"\")''' {rootDir}/stable-diffusion-webui/launch.py\n",
        "!sed -i -e '''/prepare_environment()/a\\    os.system\\(f\\\"\"\"sed -i -e ''\\\"s/dict()))/dict())).cuda()/g\\\"'' {rootDir}/stable-diffusion-webui/repositories/stable-diffusion-stability-ai/ldm/util.py\"\"\")''' {rootDir}/stable-diffusion-webui/launch.py\n",
        "!sed -i '/Checking out commit for/d' {rootDir}/stable-diffusion-webui/launch.py\n",
        "!python launch.py --share --enable-insecure-extension-access {'' if paperspace_m4000 else '--xformers'}"
      ]
    }
  ],
  "metadata": {
    "accelerator": "GPU",
    "colab": {
      "private_outputs": true,
      "provenance": [],
      "include_colab_link": true
    },
    "gpuClass": "standard",
    "kernelspec": {
      "display_name": "Python 3",
      "name": "python3"
    },
    "language_info": {
      "name": "python"
    }
  },
  "nbformat": 4,
  "nbformat_minor": 0
}